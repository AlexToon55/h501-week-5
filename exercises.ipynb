{
 "cells": [
  {
   "cell_type": "markdown",
   "id": "e3aad6c5",
   "metadata": {},
   "source": [
    "<font color='darkred'> Unless otherwise noted, **this notebook will not be reviewed or autograded.**</font> You are welcome to use it for scratchwork, but **only the files listed in the exercises will be checked.**\n",
    "\n",
    "---\n",
    "\n",
    "# Exercises\n",
    "\n",
    "For these exercises, add your functions to the *apputil\\.py* file. If you like, you're welcome to adjust the *app\\.py* file, but it is not required. *These exercises use the [Titanic dataset](https://raw.githubusercontent.com/leontoddjohnson/datasets/main/data/titanic.csv).*\n",
    "\n",
    "\n",
    "## Exercise 1 Survival Patterns\n"
   ]
  },
  {
   "cell_type": "markdown",
   "id": "5833bb5f",
   "metadata": {},
   "source": [
    "\n",
    "For this Exercise you will analyze survival patterns on the Titanic by looking at passenger class, gender, and age group. Name the function `exercise1()`.\n",
    "\n",
    "1. Create a new column in the Titanic dataset that classifies passengers into age categories using pandas `Categorical`.\n",
    "The categories should be:\n",
    "    - Teen (13–19)  \n",
    "    - Adult (20–59)\n",
    "    - Senior (60+)  \n",
    "  \n",
    "\tHint: The `pd.cut()` function might come in handy here.\n",
    "\n",
    "\n",
    "1. Group the passengers by class, gender, and age group.  \n",
    "\n",
    "2. For each group, calculate:  \n",
    "    - The total number of passengers  \n",
    "    - The number of survivors  \n",
    "    - The survival rate  \n",
    "\n",
    "\n",
    "3. Return a table that includes the results for all combinations of class, gender, and age group.  \n",
    "\n",
    "4. Order the results so they are easy to interpret.  \n",
    "\n",
    "5. Come up with a clear question that your results table makes you curious about (for example: “Did women in first class have a higher survival rate than men in other classes?”). Write this question in your `app.py` file above the call to your visualization function, using `st.write(\"Your Question Here\")`. Then, create a Plotly visualization in a function named `visualize_exercise1()` that directly addresses your question. You are free to choose the chart type that you think best communicates the findings. Be creative — try different approaches, compare them, and ensure that your chart clearly answers the question you posed.\n"
   ]
  },
  {
   "cell_type": "markdown",
   "id": "3e8a0793",
   "metadata": {},
   "source": [
    "## Exercise 2: Family Size and Wealth"
   ]
  },
  {
   "cell_type": "markdown",
   "id": "93bea550",
   "metadata": {},
   "source": [
    "Using the Titanic dataset, write a function named `exercise2()` to explore the relationship between family size, passenger class, and ticket fare.  \n",
    "\n",
    "1. Create a new column in the Titanic dataset that represents the total family size for each passenger. Family size is defined as the number of siblings/spouses aboard plus the number of parents/children aboard, plus the passenger themself.  \n",
    "\n",
    "2. Group the passengers by family size and passenger class. For each group, calculate:  \n",
    "   - The total number of passengers  \n",
    "   - The average ticket fare  \n",
    "   - The minimum and maximum ticket fares (to capture variation in wealth)\n",
    "  \n",
    "\n",
    "3. Return a table with these results, sorted so that the values are clear and easy to interpret (for example, by class and then family size).  \n",
    "\n",
    "4. Just like you did in Exercise 1, come up with a clear question that your results table makes you curious about. Write this question in your app.py file above the call to your visualization function. Then, create a Plotly visualization in a function named `visualize_exercise2()` that directly addresses your question. As in exercise 1 you are free to choose the chart type that you think best communicates the findings."
   ]
  },
  {
   "cell_type": "markdown",
   "id": "fd60f1c3",
   "metadata": {},
   "source": [
    "## Bonus Question\n",
    "\n",
    "As an extension to Exercise 2, add a new column to the Titanic dataset that indicates whether each passenger’s family size is above or below the median family size across the entire dataset.\n",
    "- You should use the pandas `.transform()` method to accomplish this.\n",
    "- The new column should contain Boolean values (True if the family size is above the median, False otherwise).\n",
    "- Once you’ve created this column, take a look at how survival patterns or ticket fares might differ between above-median and below-median families.\n",
    "- Try to visualize this comparison in Plotly as well using the function name `visualize_exercise2_bonus()` — for example, comparing average fares or survival rates between the two groups."
   ]
  }
 ],
 "metadata": {
  "kernelspec": {
   "display_name": "base",
   "language": "python",
   "name": "python3"
  },
  "language_info": {
   "codemirror_mode": {
    "name": "ipython",
    "version": 3
   },
   "file_extension": ".py",
   "mimetype": "text/x-python",
   "name": "python",
   "nbconvert_exporter": "python",
   "pygments_lexer": "ipython3",
   "version": "3.12.2"
  }
 },
 "nbformat": 4,
 "nbformat_minor": 5
}
