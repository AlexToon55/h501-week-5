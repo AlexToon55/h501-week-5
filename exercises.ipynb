{
 "cells": [
  {
   "cell_type": "markdown",
   "id": "e3aad6c5",
   "metadata": {},
   "source": [
    "<font color='darkred'> Unless otherwise noted, **this notebook will not be reviewed or autograded.**</font> You are welcome to use it for scratchwork, but **only the files listed in the exercises will be checked.**\n",
    "\n",
    "---\n",
    "\n",
    "# Exercises\n",
    "\n",
    "For these exercises, add your functions to the *apputil\\.py* file. If you like, you're welcome to adjust the *app\\.py* file, but it is not required.\n",
    "\n",
    "## Exercise 1\n",
    "\n",
    "..."
   ]
  },
  {
   "cell_type": "markdown",
   "id": "5833bb5f",
   "metadata": {},
   "source": [
    "\n",
    "This exercise uses the Titanic dataset.\n",
    "\t1.\tCreate a new Python function in your apputil.py file that:\n",
    "\t•\tAdds an AgeGroup column to the DataFrame with the following categories:\n",
    "\t•\tChild (<12)\n",
    "\t•\tTeen (12–17)\n",
    "\t•\tAdult (18–59)\n",
    "\t•\tSenior (60+)\n",
    "\t•\tUnknown (if Age is missing)\n",
    "\n",
    "\t•\tGroups the data by Pclass, Sex, and AgeGroup, and calculates:\n",
    "\t•\tTotal passengers\n",
    "\t•\tSurvivors\n",
    "\t•\tSurvival rate\n",
    "\n",
    "\t2.\tCreate a second Python function in apputil.py that returns a Plotly Express figure object of these results. You must decide how to best visualize the grouped survival rates.\n",
    "\t•\tExamples could include: grouped bar charts, faceted plots, heatmaps, or scatter plots.\n",
    "\t•\tThink about clarity: Can your chart make it easy to compare survival rates across age groups, genders, and classes?\n",
    "\t•\tYour function must return a fig object so it can be displayed automatically in Streamlit.\n",
    "\t\n",
    "\t3.\tVerify that your Streamlit app.py file automatically renders this figure when the function is imported.\n"
   ]
  },
  {
   "cell_type": "code",
   "execution_count": null,
   "id": "951444aa",
   "metadata": {
    "vscode": {
     "languageId": "plaintext"
    }
   },
   "outputs": [],
   "source": [
    "def survival_by_class_and_sex(df: pd.DataFrame) -> pd.DataFrame:\n",
    "    \"\"\"\n",
    "    Returns a DataFrame with survival counts and survival rates\n",
    "    grouped by passenger class and sex.\n",
    "    \"\"\"\n",
    "    grouped = (\n",
    "        df.groupby([\"Pclass\", \"Sex\"])[\"Survived\"]\n",
    "          .agg([\"count\", \"sum\"])  # count = total passengers, sum = survivors\n",
    "          .reset_index()\n",
    "          .rename(columns={\"count\": \"Total\", \"sum\": \"Survived\"})\n",
    "    )\n",
    "    grouped[\"SurvivalRate\"] = grouped[\"Survived\"] / grouped[\"Total\"]\n",
    "    return grouped"
   ]
  },
  {
   "cell_type": "markdown",
   "id": "93bea550",
   "metadata": {},
   "source": [
    "🛠 Candidate Routine 2 — Family Size & Its Impact\n",
    "\n",
    "Week 3 skill tie-in:\n",
    "\t•\tCreating new columns, .apply or vectorized math.\n",
    "\t•\tGrouping by derived variable.\n",
    "\n",
    "Week 4 skill tie-in:\n",
    "\t•\tIsolating transformation into a reusable function.\n",
    "\t•\tReturning a tidy DataFrame for Plotly."
   ]
  },
  {
   "cell_type": "code",
   "execution_count": null,
   "id": "ae04e322",
   "metadata": {
    "vscode": {
     "languageId": "plaintext"
    }
   },
   "outputs": [],
   "source": [
    "def survival_by_family_size(df: pd.DataFrame) -> pd.DataFrame:\n",
    "    \"\"\"\n",
    "    Calculates survival rate grouped by family size \n",
    "    (siblings/spouses + parents/children + self).\n",
    "    \"\"\"\n",
    "    df = df.copy()\n",
    "    df[\"FamilySize\"] = df[\"SibSp\"] + df[\"Parch\"] + 1\n",
    "\n",
    "    grouped = (\n",
    "        df.groupby(\"FamilySize\")[\"Survived\"]\n",
    "          .agg([\"count\", \"sum\"])\n",
    "          .reset_index()\n",
    "          .rename(columns={\"count\": \"Total\", \"sum\": \"Survived\"})\n",
    "    )\n",
    "    grouped[\"SurvivalRate\"] = grouped[\"Survived\"] / grouped[\"Total\"]\n",
    "    return grouped"
   ]
  }
 ],
 "metadata": {
  "language_info": {
   "name": "python"
  }
 },
 "nbformat": 4,
 "nbformat_minor": 5
}
