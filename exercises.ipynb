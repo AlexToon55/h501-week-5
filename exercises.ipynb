{
 "cells": [
  {
   "cell_type": "markdown",
   "id": "e3aad6c5",
   "metadata": {},
   "source": [
    "<font color='darkred'> Unless otherwise noted, **this notebook will not be reviewed or autograded.**</font> You are welcome to use it for scratchwork, but **only the files listed in the exercises will be checked.**\n",
    "\n",
    "---\n",
    "\n",
    "# Exercises\n",
    "\n",
    "For these exercises, add your functions to the *apputil\\.py* file. If you like, you're welcome to adjust the *app\\.py* file, but it is not required. *These exercises use the [Titanic dataset](https://raw.githubusercontent.com/leontoddjohnson/datasets/main/data/titanic.csv).*\n",
    "\n",
    "\n",
    "## Exercise 1 Survival Patterns\n"
   ]
  },
  {
   "cell_type": "markdown",
   "id": "5833bb5f",
   "metadata": {},
   "source": [
    "\n",
    "For this Exercise you will analyze survival patterns on the Titanic by looking at passenger class, gender, and age group. Name the function `exercise1()`.\n",
    "\n",
    "1. Create a new column in the Titanic dataset that divides passengers into age categories:  \n",
    "    - Child (<13)  \n",
    "    - Teen (13–19)  \n",
    "    - Adult (20–59)  \n",
    "    - Senior (60+)  \n",
    "\n",
    "2. Group the passengers by class, gender, and age group.  \n",
    "\n",
    "3. For each group, calculate:  \n",
    "    - The total number of passengers  \n",
    "    - The number of survivors  \n",
    "    - The survival rate  \n",
    "\n",
    "4. Return a table that includes the results for all combinations of class, gender, and age group.  \n",
    "\n",
    "5. Order the results so they are easy to interpret.  \n",
    "\n",
    "6. Use Plotly to display your results visually in a function called `visualize_exercise1()` . You are free to choose the chart type that you think best communicates the findings. Be creative — try different approaches and compare which one tells the clearest story.  \n"
   ]
  },
  {
   "cell_type": "markdown",
   "id": "3e8a0793",
   "metadata": {},
   "source": [
    "## Exercise 2: Survival by Family Size"
   ]
  },
  {
   "cell_type": "markdown",
   "id": "93bea550",
   "metadata": {},
   "source": [
    "Using the Titanic dataset, write a function named `exercise2()`  to investigate the relationship between family size and survival.\n",
    "\n",
    "1. Create a new column in the Titanic dataset that represents the total family size for each passenger. Family size is defined as the number of siblings/spouses aboard plus the number of parents/children aboard, plus the passenger themself.  \n",
    "\n",
    "2. Group the passengers by family size and calculate for each group:  \n",
    "    - The total number of passengers  \n",
    "    - The number of survivors  \n",
    "    - The survival rate  \n",
    "\n",
    "3. Return a table showing these results, sorted so the values are clear and easy to interpret.  \n",
    "\n",
    "4. Use Plotly to display your results visually in a function called `visualize_exercise2()`. You are free to choose the chart type that you think best communicates the findings. Be creative — try different approaches and compare which one tells the clearest story.  "
   ]
  },
  {
   "cell_type": "markdown",
   "id": "651bd4cb",
   "metadata": {},
   "source": [
    "## Exercise 3:  Family Size and Wealth"
   ]
  },
  {
   "cell_type": "markdown",
   "id": "1b83c08d",
   "metadata": {},
   "source": [
    "Using the Titanic dataset, write a function named `exercise3()` to explore the relationship between family size, passenger class, and ticket fare.  \n",
    "\n",
    "1. Create a new column in the Titanic dataset that represents the total family size for each passenger. Family size is defined as the number of siblings/spouses aboard plus the number of parents/children aboard, plus the passenger themself.  \n",
    "\n",
    "2. Group the passengers by family size and passenger class. For each group, calculate:  \n",
    "   - The total number of passengers  \n",
    "   - The average ticket fare  \n",
    "   - The minimum and maximum ticket fares (to capture variation in wealth)  \n",
    "\n",
    "3. Return a table with these results, sorted so that the values are clear and easy to interpret (for example, by class and then family size).  \n",
    "\n",
    "4. Use Plotly to display your results visually in a function called `visualize_exercise3()`.  \n",
    "   - Experiment with different chart types.  \n",
    "   - Be creative — try multiple visualizations and compare which one tells the clearest story.  "
   ]
  }
 ],
 "metadata": {
  "kernelspec": {
   "display_name": "base",
   "language": "python",
   "name": "python3"
  },
  "language_info": {
   "codemirror_mode": {
    "name": "ipython",
    "version": 3
   },
   "file_extension": ".py",
   "mimetype": "text/x-python",
   "name": "python",
   "nbconvert_exporter": "python",
   "pygments_lexer": "ipython3",
   "version": "3.12.2"
  }
 },
 "nbformat": 4,
 "nbformat_minor": 5
}
